{
 "cells": [
  {
   "cell_type": "markdown",
   "metadata": {},
   "source": [
    "# Prediction of member type based on biking trip data\n",
    "\n",
    "This is a notebook to study a biking data set obtained from\n",
    "https://s3.amazonaws.com/capitalbikeshare-data/index.html .\n",
    "\n",
    "The exercise was suggested on \n",
    "https://www.analyticsvidhya.com/blog/2018/05/24-ultimate-data-science-projects-to-boost-your-knowledge-and-skills/\n",
    "under the title 'Trip history data set'.\n",
    "\n",
    "Author of the notebook: Gustav Baardsen <br>\n",
    "Date of first version: February 2019\n",
    "\n"
   ]
  },
  {
   "cell_type": "code",
   "execution_count": 1,
   "metadata": {},
   "outputs": [
    {
     "name": "stderr",
     "output_type": "stream",
     "text": [
      "Using TensorFlow backend.\n"
     ]
    }
   ],
   "source": [
    "import numpy as np\n",
    "import analysis\n",
    "import keras.utils.np_utils as ks_utils\n",
    "\n",
    "from sklearn.linear_model import LinearRegression\n",
    "from analysis import BikingData"
   ]
  },
  {
   "cell_type": "code",
   "execution_count": 2,
   "metadata": {},
   "outputs": [
    {
     "name": "stdout",
     "output_type": "stream",
     "text": [
      "\n",
      "Categories in the data:\n",
      "\n",
      "  Duration\n",
      "  Start station number\n",
      "  End station number\n",
      "  Bike number\n",
      "  Member type\n",
      "\n"
     ]
    }
   ],
   "source": [
    "data_file = '2017Q1-capitalbikeshare-tripdata.csv'\n",
    "data = BikingData(data_file)\n",
    "data.print_categories()"
   ]
  },
  {
   "cell_type": "markdown",
   "metadata": {},
   "source": [
    "### Reading and preparation of data set\n",
    "The data is read into a DataFrame object of the pandas library.\n",
    "\n",
    "-  Assuming that the duration of the trip is more important than the start and end dates, the dates were dropped out from the data set. Because the data set contains IDs of the start and end stations, the station names are superfluous, and were therefore neglected.\n",
    "\n",
    "-  Each time the DataFrame object is created, the samples of the data set are shuffled randomly using the function utils.shuffle() from the Scikit-Learn library.\n",
    "\n",
    "-  Bike number and member type are converted to 'category' using the function astype() of the DataFrame class.\n",
    "\n",
    "### Prediction task\n",
    "\n",
    "Given start station, end station, bike number, and duration of the trip, the task is to predict the type of member. The member type is either 'Member' or 'Casual'."
   ]
  },
  {
   "cell_type": "code",
   "execution_count": 3,
   "metadata": {
    "collapsed": true
   },
   "outputs": [],
   "source": [
    "input_data  = data.get_array()[:, :4]\n",
    "output_data = data.get_array()[:, 4:5]"
   ]
  },
  {
   "cell_type": "code",
   "execution_count": 4,
   "metadata": {},
   "outputs": [
    {
     "name": "stdout",
     "output_type": "stream",
     "text": [
      "Number of members: 528434 \n",
      "Number of non-members: 118076\n",
      "Ratio non-members of total: 0.182636\n"
     ]
    }
   ],
   "source": [
    "# Count the number of 'Member' and 'Casual'.\n",
    "# 'Casual' is coded as 0 and 'Member' as 1.\n",
    "n_total   = output_data.shape[0]\n",
    "n_members = np.sum(output_data)\n",
    "n_casual  = n_total - n_members\n",
    "print('Number of members:', n_members, \n",
    "      '\\nNumber of non-members:', n_casual)\n",
    "print('Ratio non-members of total:', \n",
    "      '{:f}'.format(float(n_casual) / n_total))"
   ]
  },
  {
   "cell_type": "markdown",
   "metadata": {},
   "source": [
    "### Members vs. non-memebers\n",
    "\n",
    "Here we can see that most of the data samples are associated with members. Still, the ratio of non-members is approximately 18 %.\n",
    "\n",
    "Let us compute the average trip distance of members and non-members."
   ]
  },
  {
   "cell_type": "code",
   "execution_count": 5,
   "metadata": {},
   "outputs": [
    {
     "name": "stdout",
     "output_type": "stream",
     "text": [
      "Mean distance for members: 689.8324956380551\n",
      "Mead distance for non-members: 2445.304879907856\n",
      "Mean distance for all bikers: 1010.4449490340444\n"
     ]
    }
   ],
   "source": [
    "distances = data.get_array()[:, 0]\n",
    "members = data.get_array()[:, -1].astype(bool)\n",
    "casual  = (np.ones(n_total, dtype = int) - \n",
    "           members).astype(bool)\n",
    "\n",
    "mean_distance_members = np.mean(distances[members])\n",
    "mean_distance_casual = np.mean(distances[casual])\n",
    "mean_distance_all = np.mean(distances)\n",
    "\n",
    "print('Mean distance for members:', mean_distance_members)\n",
    "print('Mead distance for non-members:', mean_distance_casual)\n",
    "print('Mean distance for all bikers:', mean_distance_all)"
   ]
  },
  {
   "cell_type": "markdown",
   "metadata": {},
   "source": [
    "### Mean distances of members and non-memebers\n",
    "\n",
    "As seen above, in average, members do shorter trips than non-members. Knowing that 'Casual' is coded as 0 and 'Member' as 1, this is in agreement with the negative correlation between distance and member type seen in the printout of the covariance matrix below. "
   ]
  },
  {
   "cell_type": "code",
   "execution_count": 6,
   "metadata": {},
   "outputs": [
    {
     "name": "stdout",
     "output_type": "stream",
     "text": [
      "\n",
      "Covariance matrix for the data:\n",
      "\n",
      "1.0000000000000007 -0.011554304418313233 -0.01524797455268096 0.0017750658223915387 -0.3249887188358135 \n",
      "-0.011554304418313233 1.0000000000000004 0.5151015530604804 0.015366824745471862 0.05216119298500707 \n",
      "-0.01524797455268096 0.5151015530604804 1.000000000000001 0.015207530558443415 0.058694574830155985 \n",
      "0.0017750658223915387 0.015366824745471862 0.015207530558443415 0.9999999999999972 0.006819389262299633 \n",
      "-0.3249887188358135 0.05216119298500707 0.058694574830155985 0.006819389262299633 1.000000000000016 \n",
      "\n"
     ]
    },
    {
     "data": {
      "image/png": "[encoded data removed]",
      "text/plain": [
       "<Figure size 432x288 with 2 Axes>"
      ]
     },
     "metadata": {},
     "output_type": "display_data"
    }
   ],
   "source": [
    "# Plot the covariance matrix between the variables\n",
    "analysis.plot_covariance(data.get_array())"
   ]
  },
  {
   "cell_type": "markdown",
   "metadata": {},
   "source": [
    "### What the covariance matrix tells us...\n",
    "\n",
    "According to the covariance matrix of the five variables, the start and end stations are most clearly correlated. This is of course expected. In addition, one can see a correlation between the duration of the bike trip and the type of member. As we found above, in average, non-members go on longer biking trips than members do.\n",
    "\n",
    "### Using the data in learning methods\n",
    "\n",
    "When using a neural network for a prediction task, it is common to divide the total data set into partitions for training, development, and testing. This we will do below.\n",
    "\n",
    "Furthermore, we chose to represent the member data of each sample using two integers. For example, if the sample corresponds to a 'Member', then the member data of that sample is [0, 1], whereas a 'Casual' is denoted by [1, 0]."
   ]
  },
  {
   "cell_type": "code",
   "execution_count": 8,
   "metadata": {},
   "outputs": [],
   "source": [
    "output_data_c = ks_utils.to_categorical(output_data,\n",
    "                                        num_classes = 2)"
   ]
  },
  {
   "cell_type": "code",
   "execution_count": 9,
   "metadata": {},
   "outputs": [
    {
     "name": "stdout",
     "output_type": "stream",
     "text": [
      "\n",
      "Size of training set:     517208\n",
      "Size of development set:  128655\n",
      "Size of test set:         647 \n",
      "\n"
     ]
    }
   ],
   "source": [
    "# Partition the data set into training, development,\n",
    "# and test sets. The input and output data are also\n",
    "# normalized.\n",
    "input_train, input_dev, input_test, \\\n",
    "    output_train, output_dev, output_test = \\\n",
    "        analysis.get_train_test_dev_sets(input_data,\n",
    "                                        output_data_c)"
   ]
  },
  {
   "cell_type": "markdown",
   "metadata": {},
   "source": [
    "### Linear regression\n",
    "\n",
    "As the most straightforward prediction approach, we classify biking data samples using linear regression and a least-squares error functional. This is done using the LinearRegression class from Scikit-Learn.\n",
    "\n",
    "In the linear regression, each member type is represented by a single integer: 0 for 'Casual' and 1 for 'Member'. A linear-regression prediction with a value larger than 0.5 is classified as 'Member' and the rest are classified as 'Casual'.\n",
    "\n",
    "The training set is used for the linear fitting, whereas the development set is used to test the prediction based on linear regression."
   ]
  },
  {
   "cell_type": "code",
   "execution_count": 14,
   "metadata": {},
   "outputs": [
    {
     "name": "stdout",
     "output_type": "stream",
     "text": [
      "\n",
      "Classification accuracy of linear regression: 0.828246\n"
     ]
    }
   ],
   "source": [
    "regressor = LinearRegression()\n",
    "regressor.fit(input_train,\n",
    "            output_train[:, 1])\n",
    "output_linreg = regressor.predict(input_dev)\n",
    "    \n",
    "# Accuracy of prediction\n",
    "accuracy = analysis.classify_from_regression(output_linreg,\n",
    "                                            output_dev[:, 1])\n",
    "print('\\nClassification accuracy of linear regression:',\n",
    "        '{:f}'.format(accuracy))"
   ]
  },
  {
   "cell_type": "markdown",
   "metadata": {},
   "source": [
    "### The prediction power of the linear regressor\n",
    "\n",
    "Here the linear-regression classifier predicts correctly for approximately 80 % of the samples. \n",
    "\n",
    "Above we found that the ratio of samples with member type 'Casual' is around 18 %. Assuming the same distribution of 'Member' vs. 'Casual' in the development set, a performance equally good as the linear-regression classifier would have been obtained by just assuming that all samples are of type 'Member'.\n",
    "\n",
    "In fact, that is also what we see in the analysis below: In the linear-regression classification, only around 1 % of the samples are predicted as being non-member. This is far from the true ratio, which is around 18 %. Also, only about 7 % of the real non-members were classified as non-member.\n",
    "\n",
    "Therefore, the classification accuracy of the linear regressor is quite bad, and we would like to find a better predictor."
   ]
  },
  {
   "cell_type": "code",
   "execution_count": 23,
   "metadata": {},
   "outputs": [
    {
     "name": "stdout",
     "output_type": "stream",
     "text": [
      "\n",
      "Number of samples predicted as member: 126911\n",
      "Number of samples predicted as non-member: 1744\n",
      "\n",
      "True ratio (non-members / all): 0.182838\n",
      "Predicted ratio (non-members / all): 0.013556\n",
      "\n",
      "Ratio of members that were correctly predicted as members: 0.998488\n",
      "\n",
      "Ratio of non-members that were correctly predicted as non-member: 0.067381 \n",
      "\n"
     ]
    }
   ],
   "source": [
    "predicted_classes = (output_linreg > 0.5).astype(int)\n",
    "\n",
    "n_dev    = output_dev[:, 1].shape[0]\n",
    "n_pred_member = np.count_nonzero(predicted_classes)\n",
    "print('\\nNumber of samples predicted as member:',\n",
    "     n_pred_member)\n",
    "print('Number of samples predicted as non-member:',\n",
    "      n_dev - n_pred_member)\n",
    "\n",
    "n_dev_member = np.sum(output_dev[:, 1])\n",
    "ratio_nonmember_dev = \\\n",
    "    float(n_dev - n_dev_member) / float(n_dev)\n",
    "print('\\nTrue ratio (non-members / all):',\n",
    "     '{:f}'.format(ratio_nonmember_dev))\n",
    "\n",
    "ratio_nonmember_pred = \\\n",
    "    float(n_dev - n_pred_member) / float(n_dev)\n",
    "print('Predicted ratio (non-members / all):',\n",
    "    '{:f}'.format(ratio_nonmember_pred))\n",
    "\n",
    "\n",
    "\n",
    "ratio_member = \\\n",
    "    analysis.ratio_correctly_predicted_true(predicted_classes,\n",
    "                                           output_dev[:, 1])\n",
    "print('\\nRatio of members that were correctly predicted as members:',\n",
    "     '{:f}'.format(ratio_member))\n",
    "\n",
    "ratio_nonmember = \\\n",
    "    analysis.ratio_correctly_predicted_false(predicted_classes,\n",
    "                                            output_dev[:, 1])\n",
    "print('\\nRatio of non-members that were correctly predicted as non-member:',\n",
    "     '{:f}'.format(ratio_nonmember), \n",
    "     '\\n')"
   ]
  },
  {
   "cell_type": "code",
   "execution_count": null,
   "metadata": {
    "collapsed": true
   },
   "outputs": [],
   "source": []
  }
 ],
 "metadata": {
  "kernelspec": {
   "display_name": "Python 3",
   "language": "python",
   "name": "python3"
  },
  "language_info": {
   "codemirror_mode": {
    "name": "ipython",
    "version": 3
   },
   "file_extension": ".py",
   "mimetype": "text/x-python",
   "name": "python",
   "nbconvert_exporter": "python",
   "pygments_lexer": "ipython3",
   "version": "3.6.7"
  }
 },
 "nbformat": 4,
 "nbformat_minor": 2
}
